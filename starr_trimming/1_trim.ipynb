{
 "cells": [
  {
   "cell_type": "code",
   "execution_count": 87,
   "id": "583d5578-36ce-4df3-bc8c-9465bd464536",
   "metadata": {},
   "outputs": [],
   "source": [
    "import os\n",
    "from IPython.core.interactiveshell import InteractiveShell\n",
    "InteractiveShell.ast_node_interactivity = \"all\"\n",
    "from tqdm.auto import tqdm\n",
    "from time import sleep"
   ]
  },
  {
   "cell_type": "code",
   "execution_count": 88,
   "id": "eeeeb5c0-5e61-4e3b-8483-25831027c93a",
   "metadata": {},
   "outputs": [],
   "source": [
    "def first_trim(fname, name):\n",
    "    !cutadapt -j0 -m 10 -g \"NNNNtgttccgggacgctatgc;min_overlap=3\" \\\n",
    "    --action=retain \\\n",
    "    -o {name}_round1.fastq.gz \\\n",
    "    --untrimmed-output {name}_unknown_round1.fastq.gz \\\n",
    "    panda_out/{fname} > logs/{name}_round1.txt\n",
    "    \n",
    "def rc_unk(name):\n",
    "    !seqfu rc {name}_unknown_round1.fastq.gz | pigz > {name}_rc_round1.fastq.gz\n",
    "\n",
    "def second_trim(name):\n",
    "    !cutadapt -j0 -m 10 -g \"NNNNtgttccgggacgctatgc;min_overlap=3\" \\\n",
    "    --action=retain \\\n",
    "    -o {name}_round2.fastq.gz \\\n",
    "    --untrimmed-output {name}_unknown_round2.fastq.gz \\\n",
    "    {name}_rc_round1.fastq.gz > logs/{name}_round2.txt\n",
    "\n",
    "def concatenate_rounds(name):\n",
    "    !seqfu cat {name}_round*.fastq.gz | pigz > {name}_cat.fastq.gz    \n",
    "    \n",
    "def demultiplex_GR(name):\n",
    "    !cutadapt -j0 -a \"file:refs/green_red.fa\" -o {{name}}_{name}.fastq.gz \\\n",
    "    --action=retain {name}_cat.fastq.gz > logs/{name}_demult_GR_report.txt\n",
    "\n",
    "def demultiplex_in_bc(name):\n",
    "    for fluor in [\"GFP\", \"DSRed\"]:\n",
    "        !cutadapt -e1 -j0 -g \"file:refs/biorep_bc.fa\" -o inputs/{{name}}_{fluor+'_'+name}.fastq.gz \\\n",
    "        --action=retain {fluor+'_'+name}.fastq.gz > logs/{name}_demult_inputbc_report.txt\n",
    "    \n",
    "def demultiplex_bc(name, plant):\n",
    "    !cutadapt -e1 -j0 -g \"file:refs/biorep_bc.fa\" -o {plant}/{{name}}_{name}.fastq.gz \\\n",
    "    --action=retain {name}_cat.fastq.gz > logs/{name}_demult_bc_report.txt\n",
    "    \n",
    "def cleanup(name):\n",
    "    mv_files = sorted([file for file in os.listdir() if name in file])\n",
    "    for file in mv_files:\n",
    "        !mv {file} intermediate/\n",
    "        \n",
    "def quant_pipeline(fname, name, plant):\n",
    "    pbar = tqdm(total=5)\n",
    "    first_trim(fname, name)\n",
    "    pbar.update(1)\n",
    "    rc_unk(name)\n",
    "    pbar.update(1)\n",
    "    second_trim(name)\n",
    "    pbar.update(1)\n",
    "    concatenate_rounds(name)\n",
    "    pbar.update(1)\n",
    "    demultiplex_bc(name, plant)\n",
    "    pbar.update(1)\n",
    "    cleanup(name)\n",
    "    pbar.clear()\n",
    "    pbar.close()\n",
    "    \n",
    "def input_pipeline(fname, name):\n",
    "    pbar = tqdm(total=6)\n",
    "    first_trim(fname, name)\n",
    "    pbar.update(1)\n",
    "    rc_unk(name)\n",
    "    pbar.update(1)\n",
    "    second_trim(name)\n",
    "    pbar.update(1)\n",
    "    concatenate_rounds(name)\n",
    "    pbar.update(1)\n",
    "    demultiplex_GR(name)\n",
    "    pbar.update(1)\n",
    "    demultiplex_in_bc(name)\n",
    "    pbar.update(1)\n",
    "    cleanup(name)\n",
    "    pbar.clear()\n",
    "    pbar.close()"
   ]
  },
  {
   "cell_type": "code",
   "execution_count": 89,
   "id": "e7bd0fd8-7ef8-40c9-b154-7e0288ba2d4a",
   "metadata": {},
   "outputs": [],
   "source": [
    "files = os.listdir('panda_out/')\n",
    "input_files = [file for file in files if \"I\" in file]\n",
    "quant_files = [file for file in files if \"I\" not in file]\n",
    "tob_files = [file for file in quant_files if file.startswith('T')]\n",
    "let_files = [file for file in quant_files if file.startswith('L')]"
   ]
  },
  {
   "cell_type": "code",
   "execution_count": 86,
   "id": "8b5763e9-4cf3-4381-887e-cf27b25aa8de",
   "metadata": {},
   "outputs": [
    {
     "name": "stderr",
     "output_type": "stream",
     "text": [
      "  0%|                                                                          | 0/4 [00:00<?, ?it/s]\n",
      "  0%|                                                                          | 0/6 [00:00<?, ?it/s]\u001b[A"
     ]
    },
    {
     "name": "stdout",
     "output_type": "stream",
     "text": [
      "Done           00:01:24    13,808,605 reads @   6.1 µs/read;   9.78 M reads/minute\n"
     ]
    },
    {
     "name": "stderr",
     "output_type": "stream",
     "text": [
      "\n",
      " 17%|███████████                                                       | 1/6 [01:24<07:04, 84.86s/it]\u001b[A\n",
      " 33%|██████████████████████                                            | 2/6 [01:54<03:28, 52.15s/it]\u001b[A"
     ]
    },
    {
     "name": "stdout",
     "output_type": "stream",
     "text": [
      "Done           00:00:12     6,104,251 reads @   2.0 µs/read;  30.48 M reads/minute\n"
     ]
    },
    {
     "name": "stderr",
     "output_type": "stream",
     "text": [
      "\n",
      " 50%|█████████████████████████████████                                 | 3/6 [02:06<01:41, 33.91s/it]\u001b[A\n",
      " 67%|████████████████████████████████████████████                      | 4/6 [02:37<01:05, 32.65s/it]\u001b[A"
     ]
    },
    {
     "name": "stdout",
     "output_type": "stream",
     "text": [
      "Done           00:00:25    13,737,605 reads @   1.8 µs/read;  32.51 M reads/minute\n"
     ]
    },
    {
     "name": "stderr",
     "output_type": "stream",
     "text": [
      "\n",
      " 83%|███████████████████████████████████████████████████████           | 5/6 [03:02<00:30, 30.08s/it]\u001b[A"
     ]
    },
    {
     "name": "stdout",
     "output_type": "stream",
     "text": [
      "Done           00:00:12     7,461,617 reads @   1.7 µs/read;  35.87 M reads/minute\n",
      "Done           00:00:09     5,711,134 reads @   1.6 µs/read;  36.82 M reads/minute\n"
     ]
    },
    {
     "name": "stderr",
     "output_type": "stream",
     "text": [
      "\n",
      "100%|██████████████████████████████████████████████████████████████████| 6/6 [03:24<00:00, 27.38s/it]\u001b[A\n",
      "100%|██████████████████████████████████████████████████████████████████| 6/6 [03:25<00:00, 34.28s/it]\n",
      " 25%|████████████████▎                                                | 1/4 [03:25<10:17, 205.67s/it]\n",
      "  0%|                                                                              | 0/6 [00:00<?, ?it/s]\u001b[A"
     ]
    },
    {
     "name": "stdout",
     "output_type": "stream",
     "text": [
      "Done           00:02:10    20,803,802 reads @   6.3 µs/read;   9.53 M reads/minute\n"
     ]
    },
    {
     "name": "stderr",
     "output_type": "stream",
     "text": [
      "\n",
      " 17%|███████████▌                                                         | 1/6 [02:11<10:55, 131.11s/it]\u001b[A\n",
      " 33%|███████████████████████▎                                              | 2/6 [02:55<05:20, 80.06s/it]\u001b[A"
     ]
    },
    {
     "name": "stdout",
     "output_type": "stream",
     "text": [
      "Done           00:00:19     9,227,212 reads @   2.1 µs/read;  28.89 M reads/minute\n"
     ]
    },
    {
     "name": "stderr",
     "output_type": "stream",
     "text": [
      "\n",
      " 50%|███████████████████████████████████                                   | 3/6 [03:14<02:37, 52.33s/it]\u001b[A\n",
      " 67%|██████████████████████████████████████████████▋                       | 4/6 [04:01<01:40, 50.28s/it]\u001b[A"
     ]
    },
    {
     "name": "stdout",
     "output_type": "stream",
     "text": [
      "Done           00:00:40    20,661,970 reads @   1.9 µs/read;  30.86 M reads/minute\n"
     ]
    },
    {
     "name": "stderr",
     "output_type": "stream",
     "text": [
      "\n",
      " 83%|██████████████████████████████████████████████████████████▎           | 5/6 [04:42<00:46, 46.70s/it]\u001b[A"
     ]
    },
    {
     "name": "stdout",
     "output_type": "stream",
     "text": [
      "Done           00:00:20    11,392,097 reads @   1.8 µs/read;  33.79 M reads/minute\n",
      "Done           00:00:14     8,334,911 reads @   1.7 µs/read;  34.47 M reads/minute\n"
     ]
    },
    {
     "name": "stderr",
     "output_type": "stream",
     "text": [
      "\n",
      "100%|██████████████████████████████████████████████████████████████████████| 6/6 [05:17<00:00, 42.76s/it]\u001b[A\n",
      "100%|██████████████████████████████████████████████████████████████████████| 6/6 [05:18<00:00, 53.06s/it]\n",
      " 50%|████████████████████████████████▌                                | 2/4 [08:44<09:03, 271.95s/it]\n",
      "  0%|                                                                          | 0/6 [00:00<?, ?it/s]\u001b[A"
     ]
    },
    {
     "name": "stdout",
     "output_type": "stream",
     "text": [
      "Done           00:01:48    16,649,657 reads @   6.5 µs/read;   9.23 M reads/minute\n"
     ]
    },
    {
     "name": "stderr",
     "output_type": "stream",
     "text": [
      "\n",
      " 17%|██████████▊                                                      | 1/6 [01:48<09:01, 108.35s/it]\u001b[A\n",
      " 33%|██████████████████████                                            | 2/6 [02:25<04:25, 66.37s/it]\u001b[A"
     ]
    },
    {
     "name": "stdout",
     "output_type": "stream",
     "text": [
      "Done           00:00:14     7,313,573 reads @   2.0 µs/read;  29.94 M reads/minute\n"
     ]
    },
    {
     "name": "stderr",
     "output_type": "stream",
     "text": [
      "\n",
      " 50%|█████████████████████████████████                                 | 3/6 [02:40<02:08, 42.84s/it]\u001b[A\n",
      " 67%|████████████████████████████████████████████                      | 4/6 [03:17<01:21, 40.64s/it]\u001b[A"
     ]
    },
    {
     "name": "stdout",
     "output_type": "stream",
     "text": [
      "Done           00:00:31    16,551,450 reads @   1.9 µs/read;  31.39 M reads/minute\n"
     ]
    },
    {
     "name": "stderr",
     "output_type": "stream",
     "text": [
      "\n",
      " 83%|███████████████████████████████████████████████████████           | 5/6 [03:49<00:37, 37.46s/it]\u001b[A"
     ]
    },
    {
     "name": "stdout",
     "output_type": "stream",
     "text": [
      "Done           00:00:16     9,437,365 reads @   1.7 µs/read;  35.18 M reads/minute\n",
      "Done           00:00:10     6,333,009 reads @   1.7 µs/read;  35.04 M reads/minute\n"
     ]
    },
    {
     "name": "stderr",
     "output_type": "stream",
     "text": [
      "\n",
      "100%|██████████████████████████████████████████████████████████████████| 6/6 [04:16<00:00, 34.01s/it]\u001b[A\n",
      "100%|██████████████████████████████████████████████████████████████████| 6/6 [04:17<00:00, 42.92s/it]\n",
      " 75%|████████████████████████████████████████████████▊                | 3/4 [13:01<04:25, 265.37s/it]\n",
      "  0%|                                                                          | 0/6 [00:00<?, ?it/s]\u001b[A"
     ]
    },
    {
     "name": "stdout",
     "output_type": "stream",
     "text": [
      "Done           00:02:24    21,782,564 reads @   6.6 µs/read;   9.07 M reads/minute\n"
     ]
    },
    {
     "name": "stderr",
     "output_type": "stream",
     "text": [
      "\n",
      " 17%|██████████▊                                                      | 1/6 [02:24<12:01, 144.25s/it]\u001b[A\n",
      " 33%|██████████████████████                                            | 2/6 [03:10<05:47, 86.80s/it]\u001b[A"
     ]
    },
    {
     "name": "stdout",
     "output_type": "stream",
     "text": [
      "Done           00:00:19     9,561,036 reads @   2.0 µs/read;  30.12 M reads/minute\n"
     ]
    },
    {
     "name": "stderr",
     "output_type": "stream",
     "text": [
      "\n",
      " 50%|█████████████████████████████████                                 | 3/6 [03:30<02:47, 55.94s/it]\u001b[A\n",
      " 67%|████████████████████████████████████████████                      | 4/6 [04:19<01:46, 53.33s/it]\u001b[A"
     ]
    },
    {
     "name": "stdout",
     "output_type": "stream",
     "text": [
      "Done           00:00:42    21,667,838 reads @   2.0 µs/read;  30.29 M reads/minute\n"
     ]
    },
    {
     "name": "stderr",
     "output_type": "stream",
     "text": [
      "\n",
      " 83%|███████████████████████████████████████████████████████           | 5/6 [05:02<00:49, 49.64s/it]\u001b[A"
     ]
    },
    {
     "name": "stdout",
     "output_type": "stream",
     "text": [
      "Done           00:00:22    12,529,126 reads @   1.8 µs/read;  32.83 M reads/minute\n",
      "Done           00:00:15     8,145,777 reads @   1.8 µs/read;  32.45 M reads/minute\n"
     ]
    },
    {
     "name": "stderr",
     "output_type": "stream",
     "text": [
      "\n",
      "100%|██████████████████████████████████████████████████████████████████| 6/6 [05:40<00:00, 45.80s/it]\u001b[A\n",
      "100%|██████████████████████████████████████████████████████████████████| 6/6 [05:41<00:00, 56.96s/it]\n",
      "100%|█████████████████████████████████████████████████████████████████| 4/4 [18:43<00:00, 280.83s/it]\n"
     ]
    }
   ],
   "source": [
    "for file in tqdm(input_files):\n",
    "    input_pipeline(file, file.split('.')[0])"
   ]
  },
  {
   "cell_type": "code",
   "execution_count": 90,
   "id": "470f015a-c779-41b0-89dc-593fdd0da4e5",
   "metadata": {},
   "outputs": [
    {
     "data": {
      "application/vnd.jupyter.widget-view+json": {
       "model_id": "96a425c2d0d8484b82b994f4dc9e86b5",
       "version_major": 2,
       "version_minor": 0
      },
      "text/plain": [
       "  0%|          | 0/4 [00:00<?, ?it/s]"
      ]
     },
     "metadata": {},
     "output_type": "display_data"
    },
    {
     "data": {
      "application/vnd.jupyter.widget-view+json": {
       "model_id": "042087091d454927994a5b4d38d28bc8",
       "version_major": 2,
       "version_minor": 0
      },
      "text/plain": [
       "  0%|          | 0/5 [00:00<?, ?it/s]"
      ]
     },
     "metadata": {},
     "output_type": "display_data"
    },
    {
     "name": "stdout",
     "output_type": "stream",
     "text": [
      "Done           00:01:56    19,163,080 reads @   6.1 µs/read;   9.87 M reads/minute\n",
      "Done           00:00:18     9,103,520 reads @   2.0 µs/read;  30.20 M reads/minute\n",
      "Done           00:00:31    18,841,140 reads @   1.7 µs/read;  35.67 M reads/minute\n"
     ]
    },
    {
     "data": {
      "application/vnd.jupyter.widget-view+json": {
       "model_id": "1c6f070b7a4e49fbace051ddb2b445f4",
       "version_major": 2,
       "version_minor": 0
      },
      "text/plain": [
       "  0%|          | 0/5 [00:00<?, ?it/s]"
      ]
     },
     "metadata": {},
     "output_type": "display_data"
    },
    {
     "name": "stdout",
     "output_type": "stream",
     "text": [
      "Done           00:01:28    13,955,334 reads @   6.4 µs/read;   9.45 M reads/minute\n",
      "Done           00:00:12     6,135,589 reads @   2.1 µs/read;  28.63 M reads/minute\n",
      "Done           00:00:23    13,838,252 reads @   1.7 µs/read;  35.13 M reads/minute\n"
     ]
    },
    {
     "data": {
      "application/vnd.jupyter.widget-view+json": {
       "model_id": "10b1b39f54d54667aa24c6563deae8c3",
       "version_major": 2,
       "version_minor": 0
      },
      "text/plain": [
       "  0%|          | 0/5 [00:00<?, ?it/s]"
      ]
     },
     "metadata": {},
     "output_type": "display_data"
    },
    {
     "name": "stdout",
     "output_type": "stream",
     "text": [
      "Done           00:01:41    16,093,543 reads @   6.3 µs/read;   9.49 M reads/minute\n",
      "Done           00:00:14     7,047,286 reads @   2.1 µs/read;  28.29 M reads/minute\n",
      "Done           00:00:26    15,818,951 reads @   1.7 µs/read;  36.11 M reads/minute\n"
     ]
    },
    {
     "data": {
      "application/vnd.jupyter.widget-view+json": {
       "model_id": "13e9d1014f8b4546bcddca271cb708e8",
       "version_major": 2,
       "version_minor": 0
      },
      "text/plain": [
       "  0%|          | 0/5 [00:00<?, ?it/s]"
      ]
     },
     "metadata": {},
     "output_type": "display_data"
    },
    {
     "name": "stdout",
     "output_type": "stream",
     "text": [
      "Done           00:02:45    26,330,564 reads @   6.3 µs/read;   9.56 M reads/minute\n",
      "Done           00:00:24    12,557,699 reads @   1.9 µs/read;  31.32 M reads/minute\n",
      "Done           00:00:44    25,705,115 reads @   1.7 µs/read;  35.05 M reads/minute\n"
     ]
    }
   ],
   "source": [
    "for file in tqdm(tob_files):\n",
    "    quant_pipeline(file, file.split('.')[0], 'tobacco')"
   ]
  },
  {
   "cell_type": "code",
   "execution_count": 91,
   "id": "534d95c0-a345-4d40-a106-b71cecb538ae",
   "metadata": {},
   "outputs": [
    {
     "data": {
      "application/vnd.jupyter.widget-view+json": {
       "model_id": "495fe91201e34dc3bf8279f89fbef92d",
       "version_major": 2,
       "version_minor": 0
      },
      "text/plain": [
       "  0%|          | 0/4 [00:00<?, ?it/s]"
      ]
     },
     "metadata": {},
     "output_type": "display_data"
    },
    {
     "data": {
      "application/vnd.jupyter.widget-view+json": {
       "model_id": "75c856aa621b4ea9896df0bced367696",
       "version_major": 2,
       "version_minor": 0
      },
      "text/plain": [
       "  0%|          | 0/5 [00:00<?, ?it/s]"
      ]
     },
     "metadata": {},
     "output_type": "display_data"
    },
    {
     "name": "stdout",
     "output_type": "stream",
     "text": [
      "Done           00:02:49    26,213,684 reads @   6.5 µs/read;   9.29 M reads/minute\n",
      "Done           00:00:24    12,615,156 reads @   1.9 µs/read;  30.95 M reads/minute\n",
      "Done           00:00:41    25,745,714 reads @   1.6 µs/read;  36.83 M reads/minute\n"
     ]
    },
    {
     "data": {
      "application/vnd.jupyter.widget-view+json": {
       "model_id": "db8b128d7b6a4f7583218344ad5629e9",
       "version_major": 2,
       "version_minor": 0
      },
      "text/plain": [
       "  0%|          | 0/5 [00:00<?, ?it/s]"
      ]
     },
     "metadata": {},
     "output_type": "display_data"
    },
    {
     "name": "stdout",
     "output_type": "stream",
     "text": [
      "Done           00:02:41    25,485,956 reads @   6.3 µs/read;   9.47 M reads/minute\n",
      "Done           00:00:24    11,989,433 reads @   2.0 µs/read;  29.40 M reads/minute\n",
      "Done           00:00:39    23,986,472 reads @   1.6 µs/read;  36.83 M reads/minute\n"
     ]
    },
    {
     "data": {
      "application/vnd.jupyter.widget-view+json": {
       "model_id": "1c4898eca54a434997d239d67f94121b",
       "version_major": 2,
       "version_minor": 0
      },
      "text/plain": [
       "  0%|          | 0/5 [00:00<?, ?it/s]"
      ]
     },
     "metadata": {},
     "output_type": "display_data"
    },
    {
     "name": "stdout",
     "output_type": "stream",
     "text": [
      "Done           00:01:31    15,015,689 reads @   6.1 µs/read;   9.87 M reads/minute\n",
      "Done           00:00:14     7,056,673 reads @   2.1 µs/read;  28.55 M reads/minute\n",
      "Done           00:00:28    14,545,468 reads @   2.0 µs/read;  30.10 M reads/minute\n"
     ]
    },
    {
     "data": {
      "application/vnd.jupyter.widget-view+json": {
       "model_id": "28bfd1f6a1084a43af413e82981a7717",
       "version_major": 2,
       "version_minor": 0
      },
      "text/plain": [
       "  0%|          | 0/5 [00:00<?, ?it/s]"
      ]
     },
     "metadata": {},
     "output_type": "display_data"
    },
    {
     "name": "stdout",
     "output_type": "stream",
     "text": [
      "Done           00:01:34    14,620,377 reads @   6.5 µs/read;   9.24 M reads/minute\n",
      "Done           00:00:14     6,646,988 reads @   2.1 µs/read;  28.38 M reads/minute\n",
      "Done           00:00:25    14,198,080 reads @   1.8 µs/read;  33.91 M reads/minute\n"
     ]
    }
   ],
   "source": [
    "for file in tqdm(let_files):\n",
    "    quant_pipeline(file, file.split('.')[0], 'lettuce')"
   ]
  },
  {
   "cell_type": "code",
   "execution_count": null,
   "id": "65545ed6-2256-46ca-9e2f-100310813867",
   "metadata": {},
   "outputs": [],
   "source": []
  }
 ],
 "metadata": {
  "kernelspec": {
   "display_name": "Python 3 (ipykernel)",
   "language": "python",
   "name": "python3"
  },
  "language_info": {
   "codemirror_mode": {
    "name": "ipython",
    "version": 3
   },
   "file_extension": ".py",
   "mimetype": "text/x-python",
   "name": "python",
   "nbconvert_exporter": "python",
   "pygments_lexer": "ipython3",
   "version": "3.10.8"
  }
 },
 "nbformat": 4,
 "nbformat_minor": 5
}
