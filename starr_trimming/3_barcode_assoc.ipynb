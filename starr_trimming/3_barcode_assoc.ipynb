{
 "cells": [
  {
   "cell_type": "code",
   "execution_count": 1,
   "id": "0b863766-1106-4f0e-a1bd-552fe8a37f4a",
   "metadata": {},
   "outputs": [],
   "source": [
    "import re\n",
    "import numpy as np\n",
    "import pandas as pd\n",
    "import seaborn as sns\n",
    "import matplotlib.pyplot as plt\n",
    "import os\n",
    "import pdb\n",
    "from scipy import stats\n",
    "from tqdm.auto import tqdm\n",
    "tqdm.pandas()\n",
    "\n",
    "from IPython.core.interactiveshell import InteractiveShell\n",
    "InteractiveShell.ast_node_interactivity = \"all\""
   ]
  },
  {
   "cell_type": "code",
   "execution_count": 2,
   "id": "9b9d4efa-4b89-4bc9-8f46-28ff4d8df89d",
   "metadata": {},
   "outputs": [],
   "source": [
    "d_PCs = {'AT1G23490': 'pCH1',\n",
    "'AT1G07890': 'pCH2',\n",
    "'AT4G13930': 'pCH3',\n",
    "'AT1G15690': 'pCH4',\n",
    "'AT5G11740': 'pCH5',\n",
    "'AT1G76200': 'pCL1',\n",
    "'AT2G33040': 'pCL2',\n",
    "'AT4G34110': 'pCL3',\n",
    "'AT1G22300': 'pCL4',\n",
    "'AT3G44110': 'pCL5',\n",
    "'AT2G44060': 'pCM1',\n",
    "'AT4G40040': 'pCM2',\n",
    "'AT3G15730': 'pCM3',\n",
    "'AT3G13920': 'pCM4',\n",
    "'AT3G55440': 'pCM5',\n",
    "'35s':'35s',\n",
    "'pnos':'PNOS',\n",
    "'AT4G40030': np.nan,\n",
    "'057_tubq3': np.nan}"
   ]
  },
  {
   "cell_type": "code",
   "execution_count": 12,
   "id": "e0bb8516-fc33-420d-b6d9-06fd68a8c0a9",
   "metadata": {},
   "outputs": [],
   "source": [
    "bc_extract = lambda x : re.findall(r\"AGGAATG[ATGC]{18}GTGAG\", x)\n",
    "\n",
    "def build_BA(align, fwd, rev):\n",
    "    align_dict = pd.read_csv(align, sep='\\t', header=None, names=[\"read_id\", \"promoter\", \"seq\"])\n",
    "    align_f = pd.read_csv(fwd, sep='\\t', header=None, names=[\"read_id\", \"readseq\"])\n",
    "    align_r = pd.read_csv(rev, sep='\\t', header=None, names=[\"read_id\", \"readseq\"])\n",
    "    d_align = align_dict.set_index('read_id').promoter.to_dict()\n",
    "    combined = pd.concat([align_f, align_r])\n",
    "    combined[\"promoter\"] = combined.read_id.map(d_align)\n",
    "    combined = combined.dropna()\n",
    "    combined[\"bc\"] = combined.readseq.apply(lambda x: bc_extract(x)[0][7:-5])\n",
    "    combined_bc = combined[[\"bc\", \"promoter\"]]\n",
    "    deduped_bc = combined_bc[~combined_bc.duplicated()].reset_index(drop=True)\n",
    "    return deduped_bc\n",
    "\n",
    "def file_read(fname):\n",
    "    df = pd.read_csv(fname, sep='\\t', header=None, names=[\"read_id\", \"seq\"])\n",
    "    all_counts = df.shape[0]\n",
    "    df['bc'] = df.seq.apply(lambda x: bc_extract(x)[0][7:-5])\n",
    "    df['prom'] = df.bc.map(BA_dict)\n",
    "    #print('before:', df.shape)\n",
    "    df = df.dropna()\n",
    "    #print('after:', df.shape)\n",
    "    freq = pd.DataFrame(df.bc.value_counts()[df.bc.value_counts() >= 5] / all_counts).reset_index().rename(columns={'index':'barcode', 'bc':'freq'})\n",
    "    biorep, sample = fname.split('/')[1].split('.')[0].split('_')\n",
    "    freq['biorep'] = biorep\n",
    "    freq['sample'] = sample\n",
    "    return freq\n",
    "\n",
    "def file_read_input(fname):\n",
    "    df = pd.read_csv(fname, sep='\\t', header=None, names=[\"read_id\", \"seq\"])\n",
    "    all_counts = df.shape[0]\n",
    "    df['bc'] = df.seq.apply(lambda x: bc_extract(x)[0][7:-5])\n",
    "    df['prom'] = df.bc.map(BA_dict)\n",
    "    #print('before:', df.shape)\n",
    "    df = df.dropna()\n",
    "    #print('after:', df.shape)\n",
    "    freq = pd.DataFrame(df.bc.value_counts()[df.bc.value_counts() >= 5] / all_counts).reset_index().rename(columns={'index':'barcode', 'bc':'freq'})\n",
    "    biorep, fluor, sample = fname.split('/')[1].split('.')[0].split('_')\n",
    "    freq['biorep'] = biorep\n",
    "    freq['fluor'] = fluor\n",
    "    freq['sample'] = sample\n",
    "    return freq\n",
    "\n",
    "def map_quant_list(files_list):\n",
    "    df_list = []\n",
    "    for file in tqdm(files_list):\n",
    "        df_list.append(file_read('tsvs/' + file))\n",
    "    return(pd.concat(df_list))\n",
    "\n",
    "def map_input_list(files_list):\n",
    "    df_list = []\n",
    "    for file in tqdm(files_list):\n",
    "        df_list.append(file_read_input('tsvs/' + file))\n",
    "    return(pd.concat(df_list))\n",
    "\n",
    "def freq_input_map(input_df, barcode, biorep):\n",
    "    d_input = input_df[input_df.biorep == biorep].set_index('barcode').freq.to_dict()\n",
    "    try: \n",
    "        input_freq = d_input[barcode]\n",
    "    except KeyError:\n",
    "        input_freq = None\n",
    "    return input_freq\n",
    "\n",
    "def finishing_bootstrap(df):\n",
    "    df = df.dropna().reset_index(drop=True)\n",
    "    df['normalized_freq'] = df.freq/df.input_freq\n",
    "    df['prom'] = df.barcode.map(BA_dict)\n",
    "    df['pCONS'] = df.prom.map(d_PCs)\n",
    "    df = df.dropna().reset_index(drop=True)\n",
    "    return df\n",
    "\n",
    "def graph_transform_mean(df):\n",
    "    df = df.groupby(['pCONS','biorep','sample']).mean()[['normalized_freq']].reset_index()\n",
    "    df['log_freq'] = df['normalized_freq'].apply(np.log2)\n",
    "    return df\n",
    "\n",
    "def graph_transform_median(df):\n",
    "    df = df.groupby(['pCONS','biorep','sample']).median()[['normalized_freq']].reset_index()\n",
    "    df['log_freq'] = df['normalized_freq'].apply(np.log2)\n",
    "    return df\n",
    "\n",
    "def swarm_func(df):\n",
    "    order = graph_transform_mean(df).groupby('pCONS').mean()['log_freq'].sort_values().index\n",
    "    sns.set(font_scale=1.4)\n",
    "    sns.set_style('ticks')\n",
    "    sns.set_palette('colorblind')\n",
    "    fig, ax = plt.subplots(figsize=(20, 6)) \n",
    "    sns.swarmplot(data=graph_transform_mean(df), x='pCONS', y='log_freq', hue='biorep', order=order)\n"
   ]
  },
  {
   "cell_type": "code",
   "execution_count": 4,
   "id": "9cf23472-6628-4b58-bd99-f0a2d48a419d",
   "metadata": {},
   "outputs": [],
   "source": [
    "round_1 = build_BA('pacbio/new/pc_pacbio_alignment.tsv', 'pacbio/new/pc_bc_fwd.tsv', 'pacbio/new/pc_bc_rev.tsv')\n",
    "round_2 = build_BA('pacbio/old/pc_pacbio_alignment.tsv', 'pacbio/old/pc_bc_fwd.tsv', 'pacbio/old/pc_bc_rev.tsv')"
   ]
  },
  {
   "cell_type": "code",
   "execution_count": 5,
   "id": "c266b49c-6821-44dc-86bf-524502ba646e",
   "metadata": {},
   "outputs": [],
   "source": [
    "combined = pd.concat([round_1, round_2])\n",
    "collapsed = combined.groupby('bc').agg(list).promoter.apply(np.unique)\n",
    "unique_bc = combined.groupby('bc').agg(list).promoter.apply(np.unique).apply(len) == 1\n",
    "BA_dict = collapsed[unique_bc].apply(lambda x: x[0]).to_dict()\n",
    "#l_collide = list(combined.groupby('bc').agg(list)[combined.groupby('bc').agg(list).promoter.apply(len) != 1].index)"
   ]
  },
  {
   "cell_type": "code",
   "execution_count": 6,
   "id": "6bfed539-3dc5-4b29-aec5-455bb30e5697",
   "metadata": {},
   "outputs": [],
   "source": [
    "all_files = os.listdir('tsvs/')\n",
    "\n",
    "tob_files = sorted([file for file in all_files if \"T\" in file])\n",
    "let_files = sorted([file for file in all_files if \"L\" in file])\n",
    "\n",
    "tob_in_files = sorted([file for file in tob_files if \"I\" in file])\n",
    "tob_quant_files = sorted([file for file in tob_files if \"I\" not in file])\n",
    "\n",
    "let_in_files = sorted([file for file in let_files if \"I\" in file])\n",
    "let_quant_files = sorted([file for file in let_files if \"I\" not in file])\n",
    "\n",
    "tob_in_green_files = sorted([file for file in tob_in_files if \"GFP\" in file])\n",
    "tob_in_red_files = sorted([file for file in tob_in_files if \"DSRed\" in file])\n",
    "\n",
    "tob_quant_green_files = sorted([file for file in tob_quant_files if \"TG\" in file])\n",
    "tob_quant_red_files = sorted([file for file in tob_quant_files if \"TR\" in file])\n",
    "\n",
    "let_in_green_files = sorted([file for file in let_in_files if \"GFP\" in file])\n",
    "let_in_red_files = sorted([file for file in let_in_files if \"DSRed\" in file])\n",
    "\n",
    "let_quant_green_files = sorted([file for file in let_quant_files if \"LG\" in file])\n",
    "let_quant_red_files = sorted([file for file in let_quant_files if \"LR\" in file])"
   ]
  },
  {
   "cell_type": "code",
   "execution_count": 8,
   "id": "03815633-4242-4b6d-97bf-0e2badd7d3ac",
   "metadata": {},
   "outputs": [
    {
     "data": {
      "application/vnd.jupyter.widget-view+json": {
       "model_id": "dbf66c7577744ed3a908cd9adfb2d376",
       "version_major": 2,
       "version_minor": 0
      },
      "text/plain": [
       "  0%|          | 0/12 [00:00<?, ?it/s]"
      ]
     },
     "metadata": {},
     "output_type": "display_data"
    },
    {
     "data": {
      "application/vnd.jupyter.widget-view+json": {
       "model_id": "264e31464cbf4f2fb4b35028e04b3ed4",
       "version_major": 2,
       "version_minor": 0
      },
      "text/plain": [
       "  0%|          | 0/12 [00:00<?, ?it/s]"
      ]
     },
     "metadata": {},
     "output_type": "display_data"
    },
    {
     "data": {
      "application/vnd.jupyter.widget-view+json": {
       "model_id": "ca6e948dfb45475dae11f4e182b03a68",
       "version_major": 2,
       "version_minor": 0
      },
      "text/plain": [
       "  0%|          | 0/12 [00:00<?, ?it/s]"
      ]
     },
     "metadata": {},
     "output_type": "display_data"
    },
    {
     "data": {
      "application/vnd.jupyter.widget-view+json": {
       "model_id": "df05e2f2b7c344dea4146dde346894e5",
       "version_major": 2,
       "version_minor": 0
      },
      "text/plain": [
       "  0%|          | 0/12 [00:00<?, ?it/s]"
      ]
     },
     "metadata": {},
     "output_type": "display_data"
    },
    {
     "data": {
      "application/vnd.jupyter.widget-view+json": {
       "model_id": "50ce144b6f9740b2a1ae619388ebf5f5",
       "version_major": 2,
       "version_minor": 0
      },
      "text/plain": [
       "  0%|          | 0/12 [00:00<?, ?it/s]"
      ]
     },
     "metadata": {},
     "output_type": "display_data"
    },
    {
     "data": {
      "application/vnd.jupyter.widget-view+json": {
       "model_id": "4a81fd6b1bd3484e9434b6fc153f062b",
       "version_major": 2,
       "version_minor": 0
      },
      "text/plain": [
       "  0%|          | 0/12 [00:00<?, ?it/s]"
      ]
     },
     "metadata": {},
     "output_type": "display_data"
    },
    {
     "data": {
      "application/vnd.jupyter.widget-view+json": {
       "model_id": "98c40546ee1c456c88944cf59a5f4399",
       "version_major": 2,
       "version_minor": 0
      },
      "text/plain": [
       "  0%|          | 0/12 [00:00<?, ?it/s]"
      ]
     },
     "metadata": {},
     "output_type": "display_data"
    },
    {
     "data": {
      "application/vnd.jupyter.widget-view+json": {
       "model_id": "e544e2d26f75486fae85dcbeb51a8919",
       "version_major": 2,
       "version_minor": 0
      },
      "text/plain": [
       "  0%|          | 0/12 [00:00<?, ?it/s]"
      ]
     },
     "metadata": {},
     "output_type": "display_data"
    }
   ],
   "source": [
    "tob_quant_green = map_quant_list(tob_quant_green_files)\n",
    "tob_quant_red = map_quant_list(tob_quant_red_files)\n",
    "\n",
    "let_quant_green = map_quant_list(let_quant_green_files)\n",
    "let_quant_red = map_quant_list(let_quant_red_files)\n",
    "\n",
    "tob_input_green = map_input_list(tob_in_green_files)\n",
    "tob_input_red = map_input_list(tob_in_red_files)\n",
    "\n",
    "let_input_green = map_input_list(let_in_green_files)\n",
    "let_input_red = map_input_list(let_in_red_files)"
   ]
  },
  {
   "cell_type": "code",
   "execution_count": 9,
   "id": "f855c5ab-473e-46a4-a751-b0a4b5ba57e0",
   "metadata": {},
   "outputs": [],
   "source": [
    "tgi = tob_input_green.groupby(['barcode', 'biorep', \"fluor\"]).mean().reset_index()\n",
    "tri = tob_input_red.groupby(['barcode', 'biorep', \"fluor\"]).mean().reset_index()\n",
    "\n",
    "lgi = let_input_green.groupby(['barcode', 'biorep', \"fluor\"]).mean().reset_index()\n",
    "lri = let_input_red.groupby(['barcode', 'biorep', \"fluor\"]).mean().reset_index()"
   ]
  },
  {
   "cell_type": "code",
   "execution_count": 10,
   "id": "c66846e8-e058-487d-be29-bde75935d868",
   "metadata": {},
   "outputs": [
    {
     "data": {
      "application/vnd.jupyter.widget-view+json": {
       "model_id": "02aaa965289c439ab43491fcd8f3ce6a",
       "version_major": 2,
       "version_minor": 0
      },
      "text/plain": [
       "  0%|          | 0/5898 [00:00<?, ?it/s]"
      ]
     },
     "metadata": {},
     "output_type": "display_data"
    },
    {
     "data": {
      "application/vnd.jupyter.widget-view+json": {
       "model_id": "8f4d3c523361466ea3ccdb1b472829b8",
       "version_major": 2,
       "version_minor": 0
      },
      "text/plain": [
       "  0%|          | 0/6401 [00:00<?, ?it/s]"
      ]
     },
     "metadata": {},
     "output_type": "display_data"
    },
    {
     "data": {
      "application/vnd.jupyter.widget-view+json": {
       "model_id": "17ef97ad73db49cba7686d28756089a5",
       "version_major": 2,
       "version_minor": 0
      },
      "text/plain": [
       "  0%|          | 0/6075 [00:00<?, ?it/s]"
      ]
     },
     "metadata": {},
     "output_type": "display_data"
    },
    {
     "data": {
      "application/vnd.jupyter.widget-view+json": {
       "model_id": "992d0e3cd44c49f993c9ad623862438f",
       "version_major": 2,
       "version_minor": 0
      },
      "text/plain": [
       "  0%|          | 0/6355 [00:00<?, ?it/s]"
      ]
     },
     "metadata": {},
     "output_type": "display_data"
    }
   ],
   "source": [
    "tob_quant_green['input_freq'] = tob_quant_green.progress_apply(lambda x: freq_input_map(tgi, x['barcode'], x['biorep']), axis=1)\n",
    "tob_quant_red['input_freq'] = tob_quant_red.progress_apply(lambda x: freq_input_map(tri, x['barcode'], x['biorep']), axis=1)\n",
    "\n",
    "let_quant_green['input_freq'] = let_quant_green.progress_apply(lambda x: freq_input_map(lgi, x['barcode'], x['biorep']), axis=1)\n",
    "let_quant_red['input_freq'] = let_quant_red.progress_apply(lambda x: freq_input_map(lri, x['barcode'], x['biorep']), axis=1)"
   ]
  },
  {
   "cell_type": "code",
   "execution_count": 11,
   "id": "64b59b31-8cbc-414a-907e-af813148dde5",
   "metadata": {},
   "outputs": [],
   "source": [
    "tobacco_green = finishing_bootstrap(tob_quant_green)\n",
    "tobacco_red = finishing_bootstrap(tob_quant_red)\n",
    "lettuce_green = finishing_bootstrap(let_quant_green)\n",
    "lettuce_red = finishing_bootstrap(let_quant_red)"
   ]
  },
  {
   "cell_type": "code",
   "execution_count": 13,
   "id": "f27d86c3-aaaf-4f77-86e5-41b60f3aacf0",
   "metadata": {},
   "outputs": [],
   "source": [
    "# df = pd.concat(map(lambda x: graph_transform_mean(x), [tobacco_green, tobacco_red, lettuce_green, lettuce_red]))\n",
    "# df = df.reset_index(drop=True)\n",
    "# df['plant'] = df['sample'].apply(lambda x: 'Lettuce' if 'L' in x else 'Tobacco')\n",
    "# df['fluor'] = df['sample'].apply(lambda x: 'GFP' if 'G' in x else 'DSRed')\n",
    "\n",
    "df = pd.concat(map(lambda x: graph_transform_mean(x), [tobacco_green, tobacco_red, lettuce_green, lettuce_red]))\n",
    "df = df.reset_index(drop=True)\n",
    "df['plant'] = df['sample'].apply(lambda x: 'Lettuce' if 'L' in x else 'Tobacco')\n",
    "df['fluor'] = df['sample'].apply(lambda x: 'GFP' if 'G' in x else 'DSRed')\n",
    "df['tech'] = df['sample'].apply(lambda x: 'Tech2' if len(x) == 3 else 'Tech1')\n",
    "df['ensemb_lab'] = df.pCONS.apply(lambda x: \"pCL1-5\" if \"L\" in x else \"pCM1-5\" if \"M\" in x else \"pCH1-5\" if \"H\" in x else x)"
   ]
  },
  {
   "cell_type": "code",
   "execution_count": 16,
   "id": "7a1e1e51-e09b-49f9-8315-1c5518091a8e",
   "metadata": {},
   "outputs": [],
   "source": [
    "df.to_csv('tob_let_starr.csv', index=False)"
   ]
  }
 ],
 "metadata": {
  "kernelspec": {
   "display_name": "Python 3 (ipykernel)",
   "language": "python",
   "name": "python3"
  },
  "language_info": {
   "codemirror_mode": {
    "name": "ipython",
    "version": 3
   },
   "file_extension": ".py",
   "mimetype": "text/x-python",
   "name": "python",
   "nbconvert_exporter": "python",
   "pygments_lexer": "ipython3",
   "version": "3.10.8"
  }
 },
 "nbformat": 4,
 "nbformat_minor": 5
}
