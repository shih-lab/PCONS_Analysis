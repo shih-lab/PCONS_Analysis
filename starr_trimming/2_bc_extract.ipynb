{
 "cells": [
  {
   "cell_type": "code",
   "execution_count": 1,
   "id": "35fc9cf9-1c99-4ad1-8e91-33f529ed5760",
   "metadata": {},
   "outputs": [],
   "source": [
    "import os\n",
    "from IPython.core.interactiveshell import InteractiveShell\n",
    "InteractiveShell.ast_node_interactivity = \"all\"\n",
    "from tqdm.auto import tqdm\n",
    "from time import sleep"
   ]
  },
  {
   "cell_type": "code",
   "execution_count": 7,
   "id": "a0b06ca0-5089-4f5a-b049-141d22954ab3",
   "metadata": {},
   "outputs": [],
   "source": [
    "tob_files = sorted(['tobacco/' + file for file in os.listdir('tobacco/') if file.startswith('Rep')])\n",
    "input_files = sorted(['inputs/' + file for file in os.listdir('inputs/') if file.startswith('Rep')])\n",
    "let_files = sorted(['lettuce/' + file for file in os.listdir('lettuce/') if file.startswith('Rep')])"
   ]
  },
  {
   "cell_type": "code",
   "execution_count": 15,
   "id": "4eaa8033-f062-42cf-bc01-eafe2ed47254",
   "metadata": {},
   "outputs": [],
   "source": [
    "def process_bc(fname, name):\n",
    "    !zcat {fname} | grep -E -i --no-group-separator \"AGGAATG[ATGC]{{18}}GTGAG\" -B1 | bioawk -c fastx '{{print $$1, $$2}}' > {'tsvs/'+name}.tsv"
   ]
  },
  {
   "cell_type": "code",
   "execution_count": 18,
   "id": "d6990adf-a3f3-447e-a651-c2204cfb95a9",
   "metadata": {},
   "outputs": [
    {
     "data": {
      "application/vnd.jupyter.widget-view+json": {
       "model_id": "4f9db93b365e4c0e9812feaa4e4a630c",
       "version_major": 2,
       "version_minor": 0
      },
      "text/plain": [
       "  0%|          | 0/24 [00:00<?, ?it/s]"
      ]
     },
     "metadata": {},
     "output_type": "display_data"
    },
    {
     "data": {
      "application/vnd.jupyter.widget-view+json": {
       "model_id": "334ac30c51e243c09fae5910590302b5",
       "version_major": 2,
       "version_minor": 0
      },
      "text/plain": [
       "  0%|          | 0/24 [00:00<?, ?it/s]"
      ]
     },
     "metadata": {},
     "output_type": "display_data"
    },
    {
     "data": {
      "application/vnd.jupyter.widget-view+json": {
       "model_id": "9d534f6b3a3f4d539a208db5759b2c21",
       "version_major": 2,
       "version_minor": 0
      },
      "text/plain": [
       "  0%|          | 0/48 [00:00<?, ?it/s]"
      ]
     },
     "metadata": {},
     "output_type": "display_data"
    },
    {
     "name": "stdout",
     "output_type": "stream",
     "text": [
      "inputs/Rep1_DSRed_LI.fastq.gz\n",
      "Rep1_DSRed_LI\n",
      "inputs/Rep1_DSRed_LI2.fastq.gz\n",
      "Rep1_DSRed_LI2\n",
      "inputs/Rep1_DSRed_TI.fastq.gz\n",
      "Rep1_DSRed_TI\n",
      "inputs/Rep1_DSRed_TI2.fastq.gz\n",
      "Rep1_DSRed_TI2\n",
      "inputs/Rep1_GFP_LI.fastq.gz\n",
      "Rep1_GFP_LI\n",
      "inputs/Rep1_GFP_LI2.fastq.gz\n",
      "Rep1_GFP_LI2\n",
      "inputs/Rep1_GFP_TI.fastq.gz\n",
      "Rep1_GFP_TI\n",
      "inputs/Rep1_GFP_TI2.fastq.gz\n",
      "Rep1_GFP_TI2\n",
      "inputs/Rep2_DSRed_LI.fastq.gz\n",
      "Rep2_DSRed_LI\n",
      "inputs/Rep2_DSRed_LI2.fastq.gz\n",
      "Rep2_DSRed_LI2\n",
      "inputs/Rep2_DSRed_TI.fastq.gz\n",
      "Rep2_DSRed_TI\n",
      "inputs/Rep2_DSRed_TI2.fastq.gz\n",
      "Rep2_DSRed_TI2\n",
      "inputs/Rep2_GFP_LI.fastq.gz\n",
      "Rep2_GFP_LI\n",
      "inputs/Rep2_GFP_LI2.fastq.gz\n",
      "Rep2_GFP_LI2\n",
      "inputs/Rep2_GFP_TI.fastq.gz\n",
      "Rep2_GFP_TI\n",
      "inputs/Rep2_GFP_TI2.fastq.gz\n",
      "Rep2_GFP_TI2\n",
      "inputs/Rep3_DSRed_LI.fastq.gz\n",
      "Rep3_DSRed_LI\n",
      "inputs/Rep3_DSRed_LI2.fastq.gz\n",
      "Rep3_DSRed_LI2\n",
      "inputs/Rep3_DSRed_TI.fastq.gz\n",
      "Rep3_DSRed_TI\n",
      "inputs/Rep3_DSRed_TI2.fastq.gz\n",
      "Rep3_DSRed_TI2\n",
      "inputs/Rep3_GFP_LI.fastq.gz\n",
      "Rep3_GFP_LI\n",
      "inputs/Rep3_GFP_LI2.fastq.gz\n",
      "Rep3_GFP_LI2\n",
      "inputs/Rep3_GFP_TI.fastq.gz\n",
      "Rep3_GFP_TI\n",
      "inputs/Rep3_GFP_TI2.fastq.gz\n",
      "Rep3_GFP_TI2\n",
      "inputs/Rep4_DSRed_LI.fastq.gz\n",
      "Rep4_DSRed_LI\n",
      "inputs/Rep4_DSRed_LI2.fastq.gz\n",
      "Rep4_DSRed_LI2\n",
      "inputs/Rep4_DSRed_TI.fastq.gz\n",
      "Rep4_DSRed_TI\n",
      "inputs/Rep4_DSRed_TI2.fastq.gz\n",
      "Rep4_DSRed_TI2\n",
      "inputs/Rep4_GFP_LI.fastq.gz\n",
      "Rep4_GFP_LI\n",
      "inputs/Rep4_GFP_LI2.fastq.gz\n",
      "Rep4_GFP_LI2\n",
      "inputs/Rep4_GFP_TI.fastq.gz\n",
      "Rep4_GFP_TI\n",
      "inputs/Rep4_GFP_TI2.fastq.gz\n",
      "Rep4_GFP_TI2\n",
      "inputs/Rep5_DSRed_LI.fastq.gz\n",
      "Rep5_DSRed_LI\n",
      "inputs/Rep5_DSRed_LI2.fastq.gz\n",
      "Rep5_DSRed_LI2\n",
      "inputs/Rep5_DSRed_TI.fastq.gz\n",
      "Rep5_DSRed_TI\n",
      "inputs/Rep5_DSRed_TI2.fastq.gz\n",
      "Rep5_DSRed_TI2\n",
      "inputs/Rep5_GFP_LI.fastq.gz\n",
      "Rep5_GFP_LI\n",
      "inputs/Rep5_GFP_LI2.fastq.gz\n",
      "Rep5_GFP_LI2\n",
      "inputs/Rep5_GFP_TI.fastq.gz\n",
      "Rep5_GFP_TI\n",
      "inputs/Rep5_GFP_TI2.fastq.gz\n",
      "Rep5_GFP_TI2\n",
      "inputs/Rep6_DSRed_LI.fastq.gz\n",
      "Rep6_DSRed_LI\n",
      "inputs/Rep6_DSRed_LI2.fastq.gz\n",
      "Rep6_DSRed_LI2\n",
      "inputs/Rep6_DSRed_TI.fastq.gz\n",
      "Rep6_DSRed_TI\n",
      "inputs/Rep6_DSRed_TI2.fastq.gz\n",
      "Rep6_DSRed_TI2\n",
      "inputs/Rep6_GFP_LI.fastq.gz\n",
      "Rep6_GFP_LI\n",
      "inputs/Rep6_GFP_LI2.fastq.gz\n",
      "Rep6_GFP_LI2\n",
      "inputs/Rep6_GFP_TI.fastq.gz\n",
      "Rep6_GFP_TI\n",
      "inputs/Rep6_GFP_TI2.fastq.gz\n",
      "Rep6_GFP_TI2\n"
     ]
    }
   ],
   "source": [
    "for file in tqdm(tob_files):\n",
    "    fname = file\n",
    "    name = file.split('/')[1].split('.')[0]\n",
    "    #print(fname, name, sep='\\n')\n",
    "    process_bc(fname, name)\n",
    "\n",
    "for file in tqdm(let_files):\n",
    "    fname = file\n",
    "    name = file.split('/')[1].split('.')[0]\n",
    "    #print(fname, name, sep='\\n')\n",
    "    process_bc(fname, name)\n",
    "\n",
    "for file in tqdm(input_files):\n",
    "    fname = file\n",
    "    name = file.split('/')[1].split('.')[0]\n",
    "    print(fname, name, sep='\\n')\n",
    "    process_bc(fname, name)"
   ]
  },
  {
   "cell_type": "code",
   "execution_count": null,
   "id": "cb03f1c4-a29d-4af4-ac37-c878b05a2e66",
   "metadata": {},
   "outputs": [],
   "source": []
  }
 ],
 "metadata": {
  "kernelspec": {
   "display_name": "Python 3 (ipykernel)",
   "language": "python",
   "name": "python3"
  },
  "language_info": {
   "codemirror_mode": {
    "name": "ipython",
    "version": 3
   },
   "file_extension": ".py",
   "mimetype": "text/x-python",
   "name": "python",
   "nbconvert_exporter": "python",
   "pygments_lexer": "ipython3",
   "version": "3.10.8"
  }
 },
 "nbformat": 4,
 "nbformat_minor": 5
}
